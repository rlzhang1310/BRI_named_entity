{
 "cells": [
  {
   "cell_type": "code",
   "execution_count": 1,
   "metadata": {},
   "outputs": [],
   "source": [
    "import boto3\n",
    "import zipfile\n",
    "import json\n",
    "import io\n",
    "import pandas as pd\n",
    "import matplotlib.pyplot as plt\n",
    "import spacy\n",
    "from io import BytesIO"
   ]
  },
  {
   "cell_type": "code",
   "execution_count": 2,
   "metadata": {},
   "outputs": [],
   "source": [
    "s3_host = 'https://obj.umiacs.umd.edu'\n",
    "access_key_id = \"xxxxx\"\n",
    "secret_access_key = \"xxxxx\"\n",
    "\n",
    "s3 = boto3.client('s3', \n",
    "                  endpoint_url=s3_host, \n",
    "                  aws_access_key_id=access_key_id, \n",
    "                  aws_secret_access_key=secret_access_key)\n",
    "\n",
    "bucket = 'twitter.ei'"
   ]
  },
  {
   "cell_type": "code",
   "execution_count": 3,
   "metadata": {},
   "outputs": [],
   "source": [
    "model_dict = {'en': spacy.load('en_core_web_sm'), 'weaker': spacy.load('xx_ent_wiki_sm'), 'better':spacy.load('xx_sent_ud_sm'), \n",
    "              'pt': spacy.load('pt_core_news_sm'), 'zh': spacy.load('zh_core_web_sm'), 'es': spacy.load('es_core_news_sm'),\n",
    "              'ko': spacy.load('ko_core_news_sm'), 'ja': spacy.load('ja_core_news_sm'), 'fr': spacy.load('fr_core_news_sm'),\n",
    "              'ru': spacy.load('ru_core_news_sm')}"
   ]
  },
  {
   "cell_type": "code",
   "execution_count": 4,
   "metadata": {},
   "outputs": [],
   "source": [
    "def process(file):\n",
    "    # dates = []\n",
    "    zip_object = s3.get_object(Bucket=bucket, Key=file)\n",
    "    zip_contents = zip_object['Body'].read()\n",
    "    zip_file = zipfile.ZipFile(io.BytesIO(zip_contents), 'r')\n",
    "    for file_info in zip_file.infolist():\n",
    "        with zip_file.open(file_info) as csv_file:\n",
    "            df = None\n",
    "            try:\n",
    "                if df == None:\n",
    "                    df = pd.read_csv(csv_file)\n",
    "                else:\n",
    "                    df = pd.concat([df, pd.read_csv(csv_file)], axis=0)\n",
    "            except:\n",
    "                print(f\"{csv_file.filename} is not a csv file\")\n",
    "    return df\n",
    "\n",
    "\n",
    "\n"
   ]
  },
  {
   "cell_type": "code",
   "execution_count": 5,
   "metadata": {},
   "outputs": [],
   "source": [
    "def helper(row, entity_dict):\n",
    "    lang = row['tweet_language'] \n",
    "    raw_text = row['tweet_text']\n",
    "    if type(raw_text) != str:   ## one entry that has \"nan\" as the tweet text\n",
    "        print(\"this is not a string\")\n",
    "        print(raw_text)\n",
    "        raw_text = str(raw_text)\n",
    "    if lang in model_dict:\n",
    "        NER = model_dict[lang]\n",
    "    else:\n",
    "        NER = model_dict['better']\n",
    "    ner_text = NER(raw_text)\n",
    "    for word in ner_text.ents:\n",
    "        tuple = (word.text, word.label_, lang)\n",
    "        if tuple in entity_dict:\n",
    "            entity_dict[tuple]+=1\n",
    "        else:\n",
    "            entity_dict[tuple]=1"
   ]
  },
  {
   "cell_type": "code",
   "execution_count": 6,
   "metadata": {},
   "outputs": [
    {
     "name": "stdout",
     "output_type": "stream",
     "text": [
      "2019_08/china_082019_3/china_082019_3_tweets_csv_unhashed.zip\n"
     ]
    },
    {
     "name": "stderr",
     "output_type": "stream",
     "text": [
      "/var/folders/r4/sgr1zrxx0038xwsxj6n3k8900000gn/T/ipykernel_26620/73084122.py:11: DtypeWarning: Columns (30) have mixed types. Specify dtype option on import or set low_memory=False.\n",
      "  df = pd.read_csv(csv_file)\n",
      "/var/folders/r4/sgr1zrxx0038xwsxj6n3k8900000gn/T/ipykernel_26620/73084122.py:11: DtypeWarning: Columns (30) have mixed types. Specify dtype option on import or set low_memory=False.\n",
      "  df = pd.read_csv(csv_file)\n"
     ]
    },
    {
     "name": "stdout",
     "output_type": "stream",
     "text": [
      "this is not a string\n",
      "nan\n"
     ]
    }
   ],
   "source": [
    "folder_prefix_lst = [\"2019_08/china_082019_1/china_082019_1_tweets_csv_unhashed.zip\",\n",
    "                     \"2019_08/china_082019_2/china_082019_2_tweets_csv_unhashed.zip\",\n",
    "                     \"2019_08/china_082019_3/china_082019_3_tweets_csv_unhashed.zip\",\n",
    "                     \"2020_05/china_052020/china_052020_tweets_csv_unhashed.zip\", \n",
    "                     \"2020_09/thailand_092020/thailand_092020_tweets_csv_unhashed.zip\"]\n",
    "dict_lst = []\n",
    "\n",
    "for f in folder_prefix_lst:\n",
    "    print(f)\n",
    "    df = process(f)\n",
    "    entity_dict = dict()\n",
    "    df.apply(lambda row: helper(row, entity_dict), axis=1)\n",
    "    dict_lst.append(entity_dict)\n",
    "\n"
   ]
  },
  {
   "cell_type": "code",
   "execution_count": 7,
   "metadata": {},
   "outputs": [],
   "source": [
    "# dict to df\n",
    "df_lst = []\n",
    "for d in dict_lst:\n",
    "    keys = list(d.keys())\n",
    "    key_tuples = list(zip(*keys))  # Unpack tuples into separate lists\n",
    "\n",
    "    # Create a DataFrame\n",
    "    entity_df = pd.DataFrame({\n",
    "        'word': key_tuples[0],\n",
    "        'type': key_tuples[1],\n",
    "        'lang': key_tuples[2],\n",
    "        'count': list(d.values())\n",
    "    })\n",
    "    df_lst.append(entity_df)"
   ]
  },
  {
   "cell_type": "code",
   "execution_count": 8,
   "metadata": {},
   "outputs": [
    {
     "name": "stdout",
     "output_type": "stream",
     "text": [
      "                             word         type lang   count\n",
      "18                             香港          GPE   zh  169678\n",
      "106                           郭文贵       PERSON   zh  140805\n",
      "1                              中国          GPE   zh   70395\n",
      "67                             美国          GPE   zh   53575\n",
      "570                         Likes       PERSON   en   26110\n",
      "...                           ...          ...  ...     ...\n",
      "203634                        9IG     QUANTITY   zh       1\n",
      "203632             RT @jentikhati          ORG   en       1\n",
      "203631  Best International Artist  WORK_OF_ART   en       1\n",
      "203630                        一证人     CARDINAL   zh       1\n",
      "457604              co/cPPww3A3fJ       PERSON   zh       1\n",
      "\n",
      "[457605 rows x 4 columns]\n"
     ]
    }
   ],
   "source": [
    "df_lst[0] = df_lst[0].sort_values(by='count', ascending=False)\n",
    "print(df_lst[0])"
   ]
  },
  {
   "cell_type": "code",
   "execution_count": 27,
   "metadata": {},
   "outputs": [
    {
     "name": "stdout",
     "output_type": "stream",
     "text": [
      "                             word      type lang  count\n",
      "11                       Thailand       GPE   en     23\n",
      "18                              #  CARDINAL   en     16\n",
      "27                           Thai      NORP   en     10\n",
      "12                  Queen Suthida    PERSON   en     10\n",
      "44   Grand Royal Barge Procession       ORG   en      8\n",
      "..                            ...       ...  ...    ...\n",
      "97                         Madrid       GPE   en      1\n",
      "98                     last night      TIME   en      1\n",
      "99                          Spoti    PERSON   en      1\n",
      "100                             🌲    PERSON   en      1\n",
      "216           New Eastern Outlook      NORP   en      1\n",
      "\n",
      "[217 rows x 4 columns]\n"
     ]
    }
   ],
   "source": [
    "df_lst[1] = df_lst[1].sort_values(by='count', ascending=False)\n",
    "print(df_lst[1])"
   ]
  },
  {
   "cell_type": "code",
   "execution_count": 28,
   "metadata": {},
   "outputs": [
    {
     "ename": "IndexError",
     "evalue": "list index out of range",
     "output_type": "error",
     "traceback": [
      "\u001b[0;31m---------------------------------------------------------------------------\u001b[0m",
      "\u001b[0;31mIndexError\u001b[0m                                Traceback (most recent call last)",
      "\u001b[1;32m/Users/rlzhang1310/Coding/buntain/twitterei_entity.ipynb Cell 10\u001b[0m line \u001b[0;36m1\n\u001b[0;32m----> <a href='vscode-notebook-cell:/Users/rlzhang1310/Coding/buntain/twitterei_entity.ipynb#X12sZmlsZQ%3D%3D?line=0'>1</a>\u001b[0m df_lst[\u001b[39m2\u001b[39;49m]\u001b[39m.\u001b[39msort_values(by\u001b[39m=\u001b[39m\u001b[39m'\u001b[39m\u001b[39mcount\u001b[39m\u001b[39m'\u001b[39m, ascending\u001b[39m=\u001b[39m\u001b[39mFalse\u001b[39;00m)\n\u001b[1;32m      <a href='vscode-notebook-cell:/Users/rlzhang1310/Coding/buntain/twitterei_entity.ipynb#X12sZmlsZQ%3D%3D?line=1'>2</a>\u001b[0m \u001b[39mprint\u001b[39m(df_lst[\u001b[39m2\u001b[39m])\n",
      "\u001b[0;31mIndexError\u001b[0m: list index out of range"
     ]
    }
   ],
   "source": [
    "df_lst[2].sort_values(by='count', ascending=False)\n",
    "print(df_lst[2])"
   ]
  },
  {
   "cell_type": "code",
   "execution_count": null,
   "metadata": {},
   "outputs": [],
   "source": [
    "df_lst[3].sort_values(by='count', ascending=False)\n",
    "print(df_lst[3])"
   ]
  },
  {
   "cell_type": "code",
   "execution_count": null,
   "metadata": {},
   "outputs": [],
   "source": [
    "df_lst[4].sort_values(by='count', ascending=False)\n",
    "print(df_lst[4])"
   ]
  },
  {
   "cell_type": "code",
   "execution_count": 9,
   "metadata": {},
   "outputs": [],
   "source": [
    "title = [\"china_082019_1\", \"china_082019_2\", \"china_082019_3\", \"china_052020\", \"thailand_092020\"]\n",
    "\n",
    "i = 0\n",
    "for time_df in df_lst:\n",
    "    time_df.to_csv(f\"~/Coding/buntain/named_entity_data/twitterrei_{title[i]}.csv\", index=False)\n",
    "    i+=1"
   ]
  }
 ],
 "metadata": {
  "kernelspec": {
   "display_name": "Python 3",
   "language": "python",
   "name": "python3"
  },
  "language_info": {
   "codemirror_mode": {
    "name": "ipython",
    "version": 3
   },
   "file_extension": ".py",
   "mimetype": "text/x-python",
   "name": "python",
   "nbconvert_exporter": "python",
   "pygments_lexer": "ipython3",
   "version": "3.12.3"
  },
  "orig_nbformat": 4
 },
 "nbformat": 4,
 "nbformat_minor": 2
}
